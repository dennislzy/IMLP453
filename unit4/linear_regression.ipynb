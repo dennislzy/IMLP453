{
 "cells": [
  {
   "cell_type": "code",
   "execution_count": null,
   "id": "4e0f911d",
   "metadata": {},
   "outputs": [
    {
     "name": "stdout",
     "output_type": "stream",
     "text": [
      "mae 1.4916666666666665\n",
      "mse 2.72875\n",
      "rmse 1.651892853668179\n"
     ]
    }
   ],
   "source": [
    "#手刻MSE,MAE,RMSE 的過程\n",
    "import math\n",
    "targets = [1.5,2.1,3.3,-4.7,-2.3,0.75]\n",
    "predictions = [0.5,1.5,2.1,-2.2,0.1,-0.5]\n",
    "error = []\n",
    "\n",
    "for i in range(len(targets)):\n",
    "    error.append(abs(targets[i]-predictions[i]))\n",
    "sum =0\n",
    "square_sum=0\n",
    "for value in error:\n",
    "    sum+=value\n",
    "    square_sum+=value*value\n",
    "mae = sum/len(targets)\n",
    "mse=square_sum/len(targets)\n",
    "rsme = math.sqrt(mse)\n",
    "print('mae',mae)\n",
    "print('mse',mse)\n",
    "print('rmse',rsme)"
   ]
  },
  {
   "cell_type": "code",
   "execution_count": null,
   "id": "cd01a1f6",
   "metadata": {},
   "outputs": [
    {
     "name": "stdout",
     "output_type": "stream",
     "text": [
      "1.4916666666666665\n"
     ]
    }
   ],
   "source": [
    "#使用skit learn 套件計算\n",
    "from sklearn import metrics\n",
    "mae = metrics.mean_absolute_error(targets,predictions)\n",
    "mse = metrics.mean_squared_error(targets,predictions)\n",
    "print('mae',mae)\n",
    "print('mse',mse)\n"
   ]
  }
 ],
 "metadata": {
  "kernelspec": {
   "display_name": "Python 3",
   "language": "python",
   "name": "python3"
  },
  "language_info": {
   "codemirror_mode": {
    "name": "ipython",
    "version": 3
   },
   "file_extension": ".py",
   "mimetype": "text/x-python",
   "name": "python",
   "nbconvert_exporter": "python",
   "pygments_lexer": "ipython3",
   "version": "3.12.2"
  }
 },
 "nbformat": 4,
 "nbformat_minor": 5
}

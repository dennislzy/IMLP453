{
 "cells": [
  {
   "cell_type": "markdown",
   "metadata": {},
   "source": [
    "# Python programming \n",
    "## Crash Course on Python Coding Practice\n",
    "\n",
    "No matter the level of mastery you hope to get to in Python,<br> \n",
    "you'll need these fundamentals in place before you jump into any project.<br><br>\n",
    "\n",
    "You need to know how to:\n",
    "\n",
    "- declare variables\n",
    "- collect user input\n",
    "- store information\n",
    "- repeat an action through loops\n",
    "- write functions to repeat blocks of code\n"
   ]
  },
  {
   "cell_type": "markdown",
   "metadata": {},
   "source": [
    "### 01 - 奇偶數辨別（Odd or even）\n",
    "#### 當使用者輸入一個的數字，它能夠辨別奇偶，並輸出檢驗結果給使用者。\n",
    "\n",
    "> 題目：輸入一數字判斷奇數或偶數<br>\n",
    "輸入(Input): 一個數字 <br>\n",
    "輸出(Output):奇數或偶數\n",
    "\n",
    "* 進階: 可以限制輸入一個介於一定範圍（例如 1 到 1000）的數字"
   ]
  },
  {
   "cell_type": "code",
   "execution_count": 5,
   "metadata": {},
   "outputs": [
    {
     "data": {
      "text/plain": [
       "'是偶數'"
      ]
     },
     "execution_count": 5,
     "metadata": {},
     "output_type": "execute_result"
    }
   ],
   "source": [
    "def isOddOrEven( a):\n",
    "    if a>1000:\n",
    "        return \"太大了\"\n",
    "    elif a<1:\n",
    "        return \"太小了\"\n",
    "    else:\n",
    "        if a%2==0:\n",
    "            return \"是偶數\"\n",
    "        else:\n",
    "            return \"是奇數\"\n",
    "k= int(input())\n",
    "isOddOrEven(k)"
   ]
  },
  {
   "cell_type": "markdown",
   "metadata": {},
   "source": [
    "### 02 - 填字遊戲（Mad libs game）\n",
    "#### 使用者輸入任何字，它可以是名詞、形容詞、動詞、代名詞等。程式得到文字後，可自行排列，組成成一個模板故事。\n",
    "\n",
    "> 題目：輸入一數字判斷奇數或偶數<br>\n",
    "輸入(Input): 一連串依據說明輸入對應文字 <br>\n",
    "輸出(Output): 模板故事\n",
    "\n",
    "* 進階: 可以讓程式重複執行"
   ]
  },
  {
   "cell_type": "code",
   "execution_count": null,
   "metadata": {},
   "outputs": [
    {
     "name": "stdout",
     "output_type": "stream",
     "text": [
      "🔧 歡迎使用課程模板故事生成器！\n",
      "------------------------------------------\n",
      "第347期 - 機器學習 \n",
      "姓名： 林子淵 ,\n",
      "學生背景： 資訊管理\n",
      "==========================================\n",
      "林子淵 修習完課程[ 機器學習 ]後，\n",
      "結業成果獲得: 學到東西 。\n",
      "Well Done.\n",
      "\n"
     ]
    }
   ],
   "source": [
    "def course_template_story():\n",
    "    print(\"🔧 歡迎使用課程模板故事生成器！\")\n",
    "\n",
    "    # 詢問要建立幾次\n",
    "    times = int(input(\"請問需要建造幾次模板故事：\"))\n",
    "\n",
    "    for _ in range(times):\n",
    "        # 輸入各欄位資料\n",
    "        term = input(\"請輸入課程期數: \")\n",
    "        course_name = input(\"請輸入課程名稱: \")\n",
    "        name = input(\"請輸入姓名: \")\n",
    "        background = input(\"請輸入您的背景(科系或職業): \")\n",
    "        expectation = input(\"請簡述對於本課程的期望: \")\n",
    "\n",
    "        print(\"-\" * 42)\n",
    "\n",
    "        # 模板故事輸出\n",
    "        print(f\"第{term}期 - {course_name} \")\n",
    "        print(f\"姓名： {name} ,\")\n",
    "        print(f\"學生背景： {background}\")\n",
    "        print(\"=\" * 42)\n",
    "        print(f\"{name} 修習完課程[ {course_name} ]後，\")\n",
    "        print(f\"結業成果獲得: {expectation} 。\")\n",
    "        print(\"Well Done.\\n\")\n",
    "\n",
    "\n",
    "course_template_story()\n"
   ]
  },
  {
   "cell_type": "markdown",
   "metadata": {},
   "source": [
    "### 03 -  猜數字（Guess the number）\n",
    "#### 請使用者猜一個介於範圍（例如 1 到 100）之間的數字，\n",
    "#### 若使用者猜錯，就詢問他們想繼續玩還是退出；若使用者猜對，就顯示祝賀訊息，\n",
    "#### 並統計使用者的嘗試次數。如果使用者輸入的數字超出設定範圍，就顯示錯誤提示。\n",
    "\n",
    "![](data\\guess.png)\n"
   ]
  },
  {
   "cell_type": "code",
   "execution_count": 2,
   "metadata": {},
   "outputs": [
    {
     "name": "stdout",
     "output_type": "stream",
     "text": [
      "歡迎來玩猜數字遊戲！\n",
      "請猜一個介於 1 到 100 之間的數字。\n",
      "太大了！\n",
      "遊戲結束，正確答案是 9。你總共猜了 1 次。\n"
     ]
    }
   ],
   "source": [
    "import random\n",
    "\n",
    "def guess_the_number():\n",
    "    # 設定範圍\n",
    "    low = 1\n",
    "    high = 100\n",
    "    answer = random.randint(low, high)\n",
    "    attempts = 0\n",
    "\n",
    "    print(\"歡迎來玩猜數字遊戲！\")\n",
    "    print(f\"請猜一個介於 {low} 到 {high} 之間的數字。\")\n",
    "\n",
    "    while True:\n",
    "        try:\n",
    "            guess = int(input(\"請輸入你的猜測：\"))\n",
    "            # 檢查是否在範圍內\n",
    "            if guess < low or guess > high:\n",
    "                print(f\"⚠️ 請輸入一個介於 {low} 到 {high} 的數字！\")\n",
    "                continue\n",
    "            attempts += 1\n",
    "\n",
    "            if guess == answer:\n",
    "                print(f\"🎉 恭喜你猜對了！答案就是 {answer}。你總共猜了 {attempts} 次。\")\n",
    "                break\n",
    "            elif guess < answer:\n",
    "                print(\"太小了！\")\n",
    "            else:\n",
    "                print(\"太大了！\")\n",
    "\n",
    "            # 詢問是否繼續\n",
    "            cont = input(\"你想繼續猜嗎？(y/n): \").lower()\n",
    "            if cont != 'y':\n",
    "                print(f\"遊戲結束，正確答案是 {answer}。你總共猜了 {attempts} 次。\")\n",
    "                break\n",
    "\n",
    "        except ValueError:\n",
    "            print(\"⚠️ 請輸入有效的整數數字。\")\n",
    "\n",
    "# 啟動遊戲\n",
    "guess_the_number()\n"
   ]
  },
  {
   "cell_type": "markdown",
   "metadata": {},
   "source": [
    "### 04 - 計算字數（Word count）\n",
    "#### 使用者輸入一段文字或讀取一檔案，程式統計字數。\n",
    "\n",
    "> 輸入(Input):我要成為寫程式的專家 <br>\n",
    "輸出(Output):你用了 10 個文字述說內心的想法\n",
    "\n",
    "#### 在特定的文章字串中搜尋輸入的特定字，請使用者輸入欲搜尋的文字，印出總共有幾個。<br>\n",
    ">輸入(Input):天<br>\n",
    "輸出(Output): 9\n",
    "\n",
    "* 進階:計算文章中去除標點符號後的字數，找出文章中出現最多的字與次數"
   ]
  },
  {
   "cell_type": "code",
   "execution_count": 7,
   "metadata": {},
   "outputs": [
    {
     "name": "stdout",
     "output_type": "stream",
     "text": [
      "你用了 1 個文字述說內心的想法\n",
      "------------------------------------------\n",
      "您輸入的文字「文」在文章中出現 0 次\n",
      "------------------------------------------\n",
      "目前已知出現最多次的字: （\n",
      "目前已知出現最多次的字的次數: 1\n",
      "文章總字數: 24\n"
     ]
    }
   ],
   "source": [
    "word = input(\"請輸入一個文字：\")\n",
    "print(\"你用了 %d 個文字述說內心的想法\" % (len(word)))\n",
    "\n",
    "s = '''（這裡是你的長篇詩詞內容，為了簡潔省略，請自行貼上）'''\n",
    "\n",
    "print(\"------------------------------------------\")\n",
    "\n",
    "# 功能一：統計指定文字出現次數\n",
    "count = s.count(word)\n",
    "print(f\"您輸入的文字「{word}」在文章中出現 {count} 次\")\n",
    "\n",
    "print(\"------------------------------------------\")\n",
    "\n",
    "# 功能二：去除標點符號\n",
    "# 可用 replace 依序處理\n",
    "punctuations = '。，\\n；：？「」'\n",
    "for p in punctuations:\n",
    "    s = s.replace(p, \"\")\n",
    "\n",
    "# 功能三：找出出現最多次的字\n",
    "max_char = ''\n",
    "max_count = 0\n",
    "\n",
    "for ch in s:\n",
    "    ch_count = s.count(ch)\n",
    "    if ch_count > max_count:\n",
    "        max_count = ch_count\n",
    "        max_char = ch\n",
    "\n",
    "print(\"目前已知出現最多次的字:\", max_char)\n",
    "print(\"目前已知出現最多次的字的次數:\", max_count)\n",
    "print(\"文章總字數:\", len(s))\n"
   ]
  },
  {
   "cell_type": "markdown",
   "metadata": {},
   "source": [
    "### 05 - Email 域名判斷器（Email slicer）\n",
    "#### 請用戶輸入 Email 地址，然後判斷它是自定義域名還是熱門域名。\n",
    "\n",
    "> 題目：<br>\n",
    "輸入(Input):shelly200318@hotmail.com.tw  <br>\n",
    "輸出(Output):Your username is 'shelly200318' and your domain name is 'hotmail.com.tw' <br>\n",
    "\n",
    "\n",
    "* 進階：把常用的信箱存成字典，加入判斷是否為\n",
    ">輸入(Input):mary.jane@gmail.com  <br>\n",
    "輸出(Output):這是註冊在 Google 之下的 Email 地址 <br>\n",
    "輸入(Input):matt.pan@myfantasy.com  <br>\n",
    "輸出(Output):這是在 myfantasy 之下自定義域\n",
    "\n"
   ]
  },
  {
   "cell_type": "code",
   "execution_count": null,
   "metadata": {},
   "outputs": [
    {
     "name": "stdout",
     "output_type": "stream",
     "text": [
      "What is your email address?: aaa@ntut.org.tw\n",
      "Your username is 'aaa' and your domain name is 'ntut.org.tw'\n",
      "這是在 ntut 之下自定義域\n"
     ]
    }
   ],
   "source": [
    "# Get user email address\n",
    "email = input(\"What is your email address?: \").strip()\n",
    "\n",
    "# Slice out the user name\n",
    "user_name = email.split('@')[0]\n",
    "\n",
    "# Slice the domain name\n",
    "domain_name = email.split('@')[1]\n",
    "\n",
    "# Format message\n",
    "output = \"Your username is '{}' and your domain name is '{}'\".format(user_name, domain_name)\n",
    "\n",
    "# Display output message\n",
    "print(output)\n",
    "\n",
    "# Known domain dictionary\n",
    "domain_dict = {\n",
    "    'gmail.com': 'Google',\n",
    "    'yahoo.com.tw': 'Yahoo',\n",
    "    'ntu.edu.tw': '臺大',\n",
    "    'hotmail.com.tw': 'Hotmail',\n",
    "    'hotmail.com': 'Hotmail'\n",
    "}\n",
    "\n",
    "# Check if domain is known\n",
    "if domain_name in domain_dict:\n",
    "    output = \"這是註冊在 {} 之下的 Email 地址\".format(domain_dict[domain_name])\n",
    "else:\n",
    "    output = \"這是在 {} 之下自定義域\".format(domain_name)\n",
    "\n",
    "print(output)\n"
   ]
  },
  {
   "cell_type": "markdown",
   "metadata": {},
   "source": [
    "### 06 - 及格名單（Pass list）\n",
    "#### 請使用集合功能來完成各科級名單的判斷\n",
    "```\n",
    "米花市帝丹小學一年级B班正舉辦期中考試\n",
    "數學及格的有：柯南、灰原、步美、美環、光彦\n",
    "英文及格的有：柯南、灰原、丸尾、野口、步美\n",
    "以上已列出全班所有人\n",
    "```\n",
    "\n",
    ">請分別列出<br>\n",
    "數學及格但英文不及格的同學名單<br>\n",
    "數學不及格但英文及格的同學名單<br>\n",
    "兩者皆及格名單<br>\n",
    "* Hint:差集(減法)、交集\n"
   ]
  },
  {
   "cell_type": "code",
   "execution_count": 8,
   "metadata": {},
   "outputs": [
    {
     "name": "stdout",
     "output_type": "stream",
     "text": [
      "['光彦', '美環']\n",
      "['丸尾', '野口']\n",
      "['柯南', '步美', '灰原']\n"
     ]
    }
   ],
   "source": [
    "m={'柯南','灰原','步美','美環','光彦'}\n",
    "e={'柯南','灰原','丸尾','野口','步美'}\n",
    "a=m.intersection(e)\n",
    "b=m.difference(a)\n",
    "c=e.difference(a)\n",
    "a1=list(a)\n",
    "b1=list(b)\n",
    "c1=list(c)\n",
    "b1.sort()\n",
    "print(b1)\n",
    "c1.sort()\n",
    "print(c1)\n",
    "a1.sort()\n",
    "print(a1)\n"
   ]
  },
  {
   "cell_type": "markdown",
   "metadata": {},
   "source": [
    "### 07 - 查詢路徑下所有檔案\n",
    "#### 請使用者輸入路徑，自動抓取路徑下所有檔案名稱\n",
    "\n",
    ">輸入(Input):data\\testfile 或 D:\\code\\ML_202105\\data\\testfile  <br>\n",
    "輸出(Output):\n",
    "```\n",
    "I'm a directory: file1\n",
    "I'm a directory: file2\n",
    "I'm a File: hw_07945001.txt\n",
    "I'm a File: hw_079450010.doc\n",
    "I'm a File: hw_07945002.txt\n",
    "I'm a File: hw_07945003.txt\n",
    "I'm a File: hw_07945004.txt\n",
    "I'm a File: hw_07945005.txt\n",
    "I'm a File: hw_07945007.txt\n",
    "I'm a File: hw_07945008.txt\n",
    "I'm a File: hw_07945009.txt\n",
    "```\n",
    "\n",
    "* 進階: 把file的學號抓出來，另存成一個新的csv檔"
   ]
  },
  {
   "cell_type": "code",
   "execution_count": 9,
   "metadata": {},
   "outputs": [
    {
     "ename": "FileNotFoundError",
     "evalue": "[WinError 3] 系統找不到指定的路徑。: '56'",
     "output_type": "error",
     "traceback": [
      "\u001b[1;31m---------------------------------------------------------------------------\u001b[0m",
      "\u001b[1;31mFileNotFoundError\u001b[0m                         Traceback (most recent call last)",
      "Cell \u001b[1;32mIn[9], line 6\u001b[0m\n\u001b[0;32m      4\u001b[0m yourPath \u001b[38;5;241m=\u001b[39m \u001b[38;5;28minput\u001b[39m()\n\u001b[0;32m      5\u001b[0m \u001b[38;5;66;03m# 列出指定路徑底下所有檔案(包含資料夾)\u001b[39;00m\n\u001b[1;32m----> 6\u001b[0m allFileList \u001b[38;5;241m=\u001b[39m \u001b[43mos\u001b[49m\u001b[38;5;241;43m.\u001b[39;49m\u001b[43mlistdir\u001b[49m\u001b[43m(\u001b[49m\u001b[43myourPath\u001b[49m\u001b[43m)\u001b[49m\n\u001b[0;32m      8\u001b[0m \u001b[38;5;66;03m# 逐一查詢檔案清單\u001b[39;00m\n\u001b[0;32m      9\u001b[0m \u001b[38;5;28;01mfor\u001b[39;00m file \u001b[38;5;129;01min\u001b[39;00m allFileList:\n\u001b[0;32m     10\u001b[0m \u001b[38;5;66;03m#   這邊也可以視情況，做檔案的操作(複製、讀取...等)\u001b[39;00m\n\u001b[0;32m     11\u001b[0m \u001b[38;5;66;03m#   使用isdir檢查是否為目錄\u001b[39;00m\n\u001b[0;32m     12\u001b[0m \u001b[38;5;66;03m#   使用join的方式把路徑與檔案名稱串起來(等同filePath+fileName)\u001b[39;00m\n",
      "\u001b[1;31mFileNotFoundError\u001b[0m: [WinError 3] 系統找不到指定的路徑。: '56'"
     ]
    }
   ],
   "source": [
    "import os\n",
    "\n",
    "# 請使用者輸入或指定要查詢的路徑\n",
    "yourPath = input()\n",
    "# 列出指定路徑底下所有檔案(包含資料夾)\n",
    "allFileList = os.listdir(yourPath)\n",
    "\n",
    "# 逐一查詢檔案清單\n",
    "for file in allFileList:\n",
    "#   這邊也可以視情況，做檔案的操作(複製、讀取...等)\n",
    "#   使用isdir檢查是否為目錄\n",
    "#   使用join的方式把路徑與檔案名稱串起來(等同filePath+fileName)\n",
    "    if os.path.isdir(os.path.join(yourPath,file)):\n",
    "        print(\"I'm a directory: \" + file)\n",
    "    #   使用isfile判斷是否為檔案\n",
    "    elif os.path.isfile(os.path.join(yourPath,file)):\n",
    "        print(\"I'm a File: \" + file)\n"
   ]
  },
  {
   "cell_type": "markdown",
   "metadata": {},
   "source": [
    "### 08 - 資料夾管理(shutil)\n",
    "#### 說明 ####\n",
    "\n",
    "```\n",
    "在目前所在的目錄下建立一files資料夾\n",
    "\n",
    "令使用者輸入一數字N，並在files資料夾中建立f1, f2… fN等N個資料夾後列出files的資料夾內容\n",
    "\n",
    "將files資料夾裡的f1資料夾重新命名成folder1後再列出files的資料夾內容\n",
    "\n",
    "移除files資料夾中的folder1後再列出files的資料夾內容\n",
    "\n",
    "最後移除files資料夾\n",
    "※須先退出files資料夾(os.chdir(../)) ![image.png](attachment:image.png)\n",
    "```\n"
   ]
  },
  {
   "cell_type": "code",
   "execution_count": 11,
   "metadata": {},
   "outputs": [
    {
     "name": "stdout",
     "output_type": "stream",
     "text": [
      "\n",
      "建立後的資料夾內容：\n",
      "['f1']\n",
      "\n",
      "將 f1 改名為 folder1 後：\n",
      "['folder1']\n",
      "\n",
      "移除 folder1 後：\n",
      "[]\n",
      "\n",
      "已刪除整個 files 資料夾\n"
     ]
    }
   ],
   "source": [
    "import os\n",
    "import shutil\n",
    "\n",
    "# 如果已有 files 資料夾，先刪除\n",
    "if os.path.exists('files'):\n",
    "    shutil.rmtree('files')\n",
    "\n",
    "# 建立 files 資料夾\n",
    "os.mkdir('files')\n",
    "\n",
    "# 使用者輸入 N\n",
    "n = int(input(\"請輸入要建立幾個資料夾（例如 3）: \"))\n",
    "\n",
    "# 建立 f1, f2, ..., fN 資料夾\n",
    "for i in range(1, n + 1):\n",
    "    os.mkdir(os.path.join('files', f'f{i}'))\n",
    "\n",
    "# 列出 files 資料夾內容\n",
    "print(\"\\n建立後的資料夾內容：\")\n",
    "print(os.listdir('files'))\n",
    "\n",
    "# 將 files/f1 改名為 files/folder1\n",
    "src = os.path.join('files', 'f1')\n",
    "dst = os.path.join('files', 'folder1')\n",
    "if os.path.exists(src):\n",
    "    os.rename(src, dst)\n",
    "\n",
    "# 再次列出內容\n",
    "print(\"\\n將 f1 改名為 folder1 後：\")\n",
    "print(os.listdir('files'))\n",
    "\n",
    "# 刪除 folder1\n",
    "if os.path.exists(dst):\n",
    "    shutil.rmtree(dst)\n",
    "\n",
    "# 再次列出內容\n",
    "print(\"\\n移除 folder1 後：\")\n",
    "print(os.listdir('files'))\n",
    "\n",
    "# 最後刪除整個 files 資料夾\n",
    "shutil.rmtree('files')\n",
    "print(\"\\n已刪除整個 files 資料夾\")\n"
   ]
  },
  {
   "cell_type": "markdown",
   "metadata": {},
   "source": [
    "### 09 - 回文判斷（Is a palindrome）\n",
    "#### 請使用者輸入單字，判斷它是否為回文，也就是該單字前後對稱，例如 madam，從前讀到後或是從後讀到前的順序都是 madam。\n",
    "\n",
    "> 題目：<br>\n",
    "輸入(Input): 雨 滋 春 樹 碧 連 天  天 連 碧 樹 春 滋 雨 <br>\n",
    "輸出(Output):The text you have entered is a palindrome!<br>\n",
    "輸入(Input): 資工訓練班 <br>\n",
    "輸出(Output):The text you have entered is not a palindrome.\n"
   ]
  },
  {
   "cell_type": "code",
   "execution_count": 1,
   "metadata": {},
   "outputs": [
    {
     "name": "stdout",
     "output_type": "stream",
     "text": [
      "\n",
      "Palindrome checker\n",
      "The text you have entered is a palindrome!\n"
     ]
    }
   ],
   "source": [
    "def convertInputString():\n",
    "    # 請使用者輸入一串字串，先轉換字串為統一小寫\n",
    "    rawInput = input(\"\\nPlease enter a word, phrase, or a sentence \\nto check if it is a palindrome: \")\n",
    "    return list(rawInput.lower())  # 轉成小寫並轉為字元列表\n",
    "\n",
    "def stripAnalphabetics(dirtyList):\n",
    "    analphabeticList = [\" \", \"-\", \".\", \",\", \":\", \";\", \"!\", \"?\", \"'\", \"\\\"\"]\n",
    "    # 去除相關標點符號\n",
    "    return [char for char in dirtyList if char not in analphabeticList]\n",
    "\n",
    "def runPalindromeCheck(straightList):\n",
    "    reversedList = straightList[::-1]\n",
    "    if straightList == reversedList:\n",
    "        return \"The text you have entered is a palindrome!\"\n",
    "    else:\n",
    "        return \"The text you have entered is not a palindrome.\"\n",
    "\n",
    "def main():\n",
    "    print(\"\\nPalindrome checker\")\n",
    "    original = convertInputString()\n",
    "    cleaned = stripAnalphabetics(original)\n",
    "    result = runPalindromeCheck(cleaned)\n",
    "    print(result)\n",
    "\n",
    "# 執行主程式\n",
    "main()\n"
   ]
  },
  {
   "cell_type": "markdown",
   "metadata": {},
   "source": [
    "### 10 - 總成績計算\n",
    "#### 說明 ####\n",
    "\n",
    "請讀取 `data/english_list.csv`與`data/math_list.csv`檔案(`utf-8`)後，將每位同學的英文與數學成績加總起來，並將檔案寫入至 `./Score.csv`中，編碼成`utf-8`<br>\n",
    "最後列印出每位學生姓名與加總後的分數<br>\n",
    "<a href=\"data\\english_list.csv\">英文成績下載</a><br>\n",
    "<a href=\"data\\math_list.csv\">數學成績下載</a><br>\n",
    "\n",
    "#### Input Format ####\n",
    "\n",
    "<br>\n",
    "csv資料(英文成績)<br>\n",
    "csv資料(數學成績)<br>\n",
    "<br>\n",
    "\n",
    "#### Output Format ####\n",
    "\n",
    "<br>\n",
    "\n",
    "![](data\\05.JPG)<br>\n",
    "<br>\n",
    "<br>\n",
    "(圖片參考用 以文字敘述為準)<br>\n",
    "\n",
    "\n",
    "\n",
    "\n",
    "#### Sample Input 1####\n",
    "\n",
    "\n",
    "\n",
    "```\n",
    "無標準輸入，只有檔案輸入\n",
    "```\n",
    "\n",
    "\n",
    "\n",
    "#### Sample Output 1####\n",
    "\n",
    "\n",
    "```\n",
    "廖冠霖 142\n",
    "王力中 124\n",
    "張平舜 108\n",
    ".\n",
    ".\n",
    ".\n",
    ".\n",
    ".\n",
    "陳姿茜 77\n",
    "涂珮瑜 134\n",
    "夏明哲 111\n",
    "\n",
    "```\n",
    "\n",
    "\n",
    "#### Hint ####\n",
    "\n",
    "\n",
    "\n",
    "```\n",
    "None\n",
    "```\n"
   ]
  },
  {
   "cell_type": "code",
   "execution_count": 12,
   "metadata": {},
   "outputs": [
    {
     "ename": "FileNotFoundError",
     "evalue": "[Errno 2] No such file or directory: 'English.csv'",
     "output_type": "error",
     "traceback": [
      "\u001b[1;31m---------------------------------------------------------------------------\u001b[0m",
      "\u001b[1;31mFileNotFoundError\u001b[0m                         Traceback (most recent call last)",
      "Cell \u001b[1;32mIn[12], line 2\u001b[0m\n\u001b[0;32m      1\u001b[0m \u001b[38;5;66;03m# 開啟檔案\u001b[39;00m\n\u001b[1;32m----> 2\u001b[0m fin_E \u001b[38;5;241m=\u001b[39m \u001b[38;5;28;43mopen\u001b[39;49m\u001b[43m(\u001b[49m\u001b[38;5;124;43m\"\u001b[39;49m\u001b[38;5;124;43mEnglish.csv\u001b[39;49m\u001b[38;5;124;43m\"\u001b[39;49m\u001b[43m,\u001b[49m\u001b[43m \u001b[49m\u001b[38;5;124;43m\"\u001b[39;49m\u001b[38;5;124;43mr\u001b[39;49m\u001b[38;5;124;43m\"\u001b[39;49m\u001b[43m,\u001b[49m\u001b[43m \u001b[49m\u001b[43mencoding\u001b[49m\u001b[38;5;241;43m=\u001b[39;49m\u001b[38;5;124;43m'\u001b[39;49m\u001b[38;5;124;43mUTF-8\u001b[39;49m\u001b[38;5;124;43m'\u001b[39;49m\u001b[43m)\u001b[49m\n\u001b[0;32m      3\u001b[0m fin_M \u001b[38;5;241m=\u001b[39m \u001b[38;5;28mopen\u001b[39m(\u001b[38;5;124m\"\u001b[39m\u001b[38;5;124mMath.csv\u001b[39m\u001b[38;5;124m\"\u001b[39m, \u001b[38;5;124m\"\u001b[39m\u001b[38;5;124mr\u001b[39m\u001b[38;5;124m\"\u001b[39m, encoding\u001b[38;5;241m=\u001b[39m\u001b[38;5;124m'\u001b[39m\u001b[38;5;124mUTF-8\u001b[39m\u001b[38;5;124m'\u001b[39m)\n\u001b[0;32m      5\u001b[0m \u001b[38;5;66;03m# 儲存資料用的 list\u001b[39;00m\n",
      "File \u001b[1;32m~\\AppData\\Roaming\\Python\\Python312\\site-packages\\IPython\\core\\interactiveshell.py:324\u001b[0m, in \u001b[0;36m_modified_open\u001b[1;34m(file, *args, **kwargs)\u001b[0m\n\u001b[0;32m    317\u001b[0m \u001b[38;5;28;01mif\u001b[39;00m file \u001b[38;5;129;01min\u001b[39;00m {\u001b[38;5;241m0\u001b[39m, \u001b[38;5;241m1\u001b[39m, \u001b[38;5;241m2\u001b[39m}:\n\u001b[0;32m    318\u001b[0m     \u001b[38;5;28;01mraise\u001b[39;00m \u001b[38;5;167;01mValueError\u001b[39;00m(\n\u001b[0;32m    319\u001b[0m         \u001b[38;5;124mf\u001b[39m\u001b[38;5;124m\"\u001b[39m\u001b[38;5;124mIPython won\u001b[39m\u001b[38;5;124m'\u001b[39m\u001b[38;5;124mt let you open fd=\u001b[39m\u001b[38;5;132;01m{\u001b[39;00mfile\u001b[38;5;132;01m}\u001b[39;00m\u001b[38;5;124m by default \u001b[39m\u001b[38;5;124m\"\u001b[39m\n\u001b[0;32m    320\u001b[0m         \u001b[38;5;124m\"\u001b[39m\u001b[38;5;124mas it is likely to crash IPython. If you know what you are doing, \u001b[39m\u001b[38;5;124m\"\u001b[39m\n\u001b[0;32m    321\u001b[0m         \u001b[38;5;124m\"\u001b[39m\u001b[38;5;124myou can use builtins\u001b[39m\u001b[38;5;124m'\u001b[39m\u001b[38;5;124m open.\u001b[39m\u001b[38;5;124m\"\u001b[39m\n\u001b[0;32m    322\u001b[0m     )\n\u001b[1;32m--> 324\u001b[0m \u001b[38;5;28;01mreturn\u001b[39;00m \u001b[43mio_open\u001b[49m\u001b[43m(\u001b[49m\u001b[43mfile\u001b[49m\u001b[43m,\u001b[49m\u001b[43m \u001b[49m\u001b[38;5;241;43m*\u001b[39;49m\u001b[43margs\u001b[49m\u001b[43m,\u001b[49m\u001b[43m \u001b[49m\u001b[38;5;241;43m*\u001b[39;49m\u001b[38;5;241;43m*\u001b[39;49m\u001b[43mkwargs\u001b[49m\u001b[43m)\u001b[49m\n",
      "\u001b[1;31mFileNotFoundError\u001b[0m: [Errno 2] No such file or directory: 'English.csv'"
     ]
    }
   ],
   "source": [
    "# 開啟檔案\n",
    "fin_E = open(\"English.csv\", \"r\", encoding='UTF-8')\n",
    "fin_M = open(\"Math.csv\", \"r\", encoding='UTF-8')\n",
    "\n",
    "# 儲存資料用的 list\n",
    "lisE = []\n",
    "lisM = []\n",
    "name = []\n",
    "\n",
    "# 讀取英文成績\n",
    "for line in fin_E.readlines():\n",
    "    line = line.strip().split(\",\")\n",
    "    name.append(line[0])\n",
    "    lisE.append(line[1])\n",
    "\n",
    "# 讀取數學成績\n",
    "for line in fin_M.readlines():\n",
    "    line = line.strip().split(\",\")\n",
    "    lisM.append(line[1])\n",
    "\n",
    "# 計算總分並寫入 Score.csv\n",
    "score = []\n",
    "fout = open(\"Score.csv\", \"w\", encoding='UTF-8')\n",
    "for i in range(len(name)):\n",
    "    total = int(lisE[i]) + int(lisM[i])\n",
    "    score.append(total)\n",
    "    list1 = [name[i], str(total), \"\\n\"]\n",
    "    print(name[i], str(total))\n",
    "    line = \",\".join(list1)\n",
    "    fout.write(line)\n",
    "\n",
    "# 關閉檔案\n",
    "fin_E.close()\n",
    "fin_M.close()\n",
    "fout.close()\n",
    "\n",
    "# 額外讀取 Score.csv 並列印（你程式的最後部分）\n",
    "print(\"\\n===== Score.csv content =====\")\n",
    "with open(\"Score.csv\", \"r\", encoding='UTF-8') as fout:\n",
    "    for line in fout:\n",
    "        print(line.strip())\n"
   ]
  },
  {
   "cell_type": "code",
   "execution_count": null,
   "metadata": {},
   "outputs": [],
   "source": []
  }
 ],
 "metadata": {
  "kernelspec": {
   "display_name": "Python 3",
   "language": "python",
   "name": "python3"
  },
  "language_info": {
   "codemirror_mode": {
    "name": "ipython",
    "version": 3
   },
   "file_extension": ".py",
   "mimetype": "text/x-python",
   "name": "python",
   "nbconvert_exporter": "python",
   "pygments_lexer": "ipython3",
   "version": "3.12.2"
  }
 },
 "nbformat": 4,
 "nbformat_minor": 2
}
